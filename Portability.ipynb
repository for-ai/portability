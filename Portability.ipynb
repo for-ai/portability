{
  "nbformat": 4,
  "nbformat_minor": 0,
  "metadata": {
    "colab": {
      "name": "Portability.ipynb",
      "provenance": [],
      "collapsed_sections": []
    },
    "kernelspec": {
      "name": "python3",
      "display_name": "Python 3"
    },
    "language_info": {
      "name": "python"
    },
    "widgets": {
      "application/vnd.jupyter.widget-state+json": {
        "ee513b3821c549108a772f6afd8cfc2f": {
          "model_module": "@jupyter-widgets/controls",
          "model_name": "HBoxModel",
          "model_module_version": "1.5.0",
          "state": {
            "_dom_classes": [],
            "_model_module": "@jupyter-widgets/controls",
            "_model_module_version": "1.5.0",
            "_model_name": "HBoxModel",
            "_view_count": null,
            "_view_module": "@jupyter-widgets/controls",
            "_view_module_version": "1.5.0",
            "_view_name": "HBoxView",
            "box_style": "",
            "children": [
              "IPY_MODEL_d9671e4c5102441ba1a5a90946b7e817",
              "IPY_MODEL_f54dba39bdbc4e538422f85ddf3f8d36",
              "IPY_MODEL_6fb68a9595d34cc5ae8b7811c37b8347"
            ],
            "layout": "IPY_MODEL_57730e6781ea4252ae0addaed6f344d5"
          }
        },
        "d9671e4c5102441ba1a5a90946b7e817": {
          "model_module": "@jupyter-widgets/controls",
          "model_name": "HTMLModel",
          "model_module_version": "1.5.0",
          "state": {
            "_dom_classes": [],
            "_model_module": "@jupyter-widgets/controls",
            "_model_module_version": "1.5.0",
            "_model_name": "HTMLModel",
            "_view_count": null,
            "_view_module": "@jupyter-widgets/controls",
            "_view_module_version": "1.5.0",
            "_view_name": "HTMLView",
            "description": "",
            "description_tooltip": null,
            "layout": "IPY_MODEL_f61838905ee74b6f998a58e9ea0e49c8",
            "placeholder": "​",
            "style": "IPY_MODEL_e8b80f3983df44f89f23b1a937d3a414",
            "value": "Downloading builder script: 100%"
          }
        },
        "f54dba39bdbc4e538422f85ddf3f8d36": {
          "model_module": "@jupyter-widgets/controls",
          "model_name": "FloatProgressModel",
          "model_module_version": "1.5.0",
          "state": {
            "_dom_classes": [],
            "_model_module": "@jupyter-widgets/controls",
            "_model_module_version": "1.5.0",
            "_model_name": "FloatProgressModel",
            "_view_count": null,
            "_view_module": "@jupyter-widgets/controls",
            "_view_module_version": "1.5.0",
            "_view_name": "ProgressView",
            "bar_style": "success",
            "description": "",
            "description_tooltip": null,
            "layout": "IPY_MODEL_06b26005008749cf884cc9878feb181b",
            "max": 7226,
            "min": 0,
            "orientation": "horizontal",
            "style": "IPY_MODEL_7cfb5cce79884d85998fdd2852064fbe",
            "value": 7226
          }
        },
        "6fb68a9595d34cc5ae8b7811c37b8347": {
          "model_module": "@jupyter-widgets/controls",
          "model_name": "HTMLModel",
          "model_module_version": "1.5.0",
          "state": {
            "_dom_classes": [],
            "_model_module": "@jupyter-widgets/controls",
            "_model_module_version": "1.5.0",
            "_model_name": "HTMLModel",
            "_view_count": null,
            "_view_module": "@jupyter-widgets/controls",
            "_view_module_version": "1.5.0",
            "_view_name": "HTMLView",
            "description": "",
            "description_tooltip": null,
            "layout": "IPY_MODEL_e912123f5fc64186a6907f008613f934",
            "placeholder": "​",
            "style": "IPY_MODEL_5e529836ac0c4b63a0178d7b0c70005b",
            "value": " 7.23k/7.23k [00:00&lt;00:00, 80.5kB/s]"
          }
        },
        "57730e6781ea4252ae0addaed6f344d5": {
          "model_module": "@jupyter-widgets/base",
          "model_name": "LayoutModel",
          "model_module_version": "1.2.0",
          "state": {
            "_model_module": "@jupyter-widgets/base",
            "_model_module_version": "1.2.0",
            "_model_name": "LayoutModel",
            "_view_count": null,
            "_view_module": "@jupyter-widgets/base",
            "_view_module_version": "1.2.0",
            "_view_name": "LayoutView",
            "align_content": null,
            "align_items": null,
            "align_self": null,
            "border": null,
            "bottom": null,
            "display": null,
            "flex": null,
            "flex_flow": null,
            "grid_area": null,
            "grid_auto_columns": null,
            "grid_auto_flow": null,
            "grid_auto_rows": null,
            "grid_column": null,
            "grid_gap": null,
            "grid_row": null,
            "grid_template_areas": null,
            "grid_template_columns": null,
            "grid_template_rows": null,
            "height": null,
            "justify_content": null,
            "justify_items": null,
            "left": null,
            "margin": null,
            "max_height": null,
            "max_width": null,
            "min_height": null,
            "min_width": null,
            "object_fit": null,
            "object_position": null,
            "order": null,
            "overflow": null,
            "overflow_x": null,
            "overflow_y": null,
            "padding": null,
            "right": null,
            "top": null,
            "visibility": null,
            "width": null
          }
        },
        "f61838905ee74b6f998a58e9ea0e49c8": {
          "model_module": "@jupyter-widgets/base",
          "model_name": "LayoutModel",
          "model_module_version": "1.2.0",
          "state": {
            "_model_module": "@jupyter-widgets/base",
            "_model_module_version": "1.2.0",
            "_model_name": "LayoutModel",
            "_view_count": null,
            "_view_module": "@jupyter-widgets/base",
            "_view_module_version": "1.2.0",
            "_view_name": "LayoutView",
            "align_content": null,
            "align_items": null,
            "align_self": null,
            "border": null,
            "bottom": null,
            "display": null,
            "flex": null,
            "flex_flow": null,
            "grid_area": null,
            "grid_auto_columns": null,
            "grid_auto_flow": null,
            "grid_auto_rows": null,
            "grid_column": null,
            "grid_gap": null,
            "grid_row": null,
            "grid_template_areas": null,
            "grid_template_columns": null,
            "grid_template_rows": null,
            "height": null,
            "justify_content": null,
            "justify_items": null,
            "left": null,
            "margin": null,
            "max_height": null,
            "max_width": null,
            "min_height": null,
            "min_width": null,
            "object_fit": null,
            "object_position": null,
            "order": null,
            "overflow": null,
            "overflow_x": null,
            "overflow_y": null,
            "padding": null,
            "right": null,
            "top": null,
            "visibility": null,
            "width": null
          }
        },
        "e8b80f3983df44f89f23b1a937d3a414": {
          "model_module": "@jupyter-widgets/controls",
          "model_name": "DescriptionStyleModel",
          "model_module_version": "1.5.0",
          "state": {
            "_model_module": "@jupyter-widgets/controls",
            "_model_module_version": "1.5.0",
            "_model_name": "DescriptionStyleModel",
            "_view_count": null,
            "_view_module": "@jupyter-widgets/base",
            "_view_module_version": "1.2.0",
            "_view_name": "StyleView",
            "description_width": ""
          }
        },
        "06b26005008749cf884cc9878feb181b": {
          "model_module": "@jupyter-widgets/base",
          "model_name": "LayoutModel",
          "model_module_version": "1.2.0",
          "state": {
            "_model_module": "@jupyter-widgets/base",
            "_model_module_version": "1.2.0",
            "_model_name": "LayoutModel",
            "_view_count": null,
            "_view_module": "@jupyter-widgets/base",
            "_view_module_version": "1.2.0",
            "_view_name": "LayoutView",
            "align_content": null,
            "align_items": null,
            "align_self": null,
            "border": null,
            "bottom": null,
            "display": null,
            "flex": null,
            "flex_flow": null,
            "grid_area": null,
            "grid_auto_columns": null,
            "grid_auto_flow": null,
            "grid_auto_rows": null,
            "grid_column": null,
            "grid_gap": null,
            "grid_row": null,
            "grid_template_areas": null,
            "grid_template_columns": null,
            "grid_template_rows": null,
            "height": null,
            "justify_content": null,
            "justify_items": null,
            "left": null,
            "margin": null,
            "max_height": null,
            "max_width": null,
            "min_height": null,
            "min_width": null,
            "object_fit": null,
            "object_position": null,
            "order": null,
            "overflow": null,
            "overflow_x": null,
            "overflow_y": null,
            "padding": null,
            "right": null,
            "top": null,
            "visibility": null,
            "width": null
          }
        },
        "7cfb5cce79884d85998fdd2852064fbe": {
          "model_module": "@jupyter-widgets/controls",
          "model_name": "ProgressStyleModel",
          "model_module_version": "1.5.0",
          "state": {
            "_model_module": "@jupyter-widgets/controls",
            "_model_module_version": "1.5.0",
            "_model_name": "ProgressStyleModel",
            "_view_count": null,
            "_view_module": "@jupyter-widgets/base",
            "_view_module_version": "1.2.0",
            "_view_name": "StyleView",
            "bar_color": null,
            "description_width": ""
          }
        },
        "e912123f5fc64186a6907f008613f934": {
          "model_module": "@jupyter-widgets/base",
          "model_name": "LayoutModel",
          "model_module_version": "1.2.0",
          "state": {
            "_model_module": "@jupyter-widgets/base",
            "_model_module_version": "1.2.0",
            "_model_name": "LayoutModel",
            "_view_count": null,
            "_view_module": "@jupyter-widgets/base",
            "_view_module_version": "1.2.0",
            "_view_name": "LayoutView",
            "align_content": null,
            "align_items": null,
            "align_self": null,
            "border": null,
            "bottom": null,
            "display": null,
            "flex": null,
            "flex_flow": null,
            "grid_area": null,
            "grid_auto_columns": null,
            "grid_auto_flow": null,
            "grid_auto_rows": null,
            "grid_column": null,
            "grid_gap": null,
            "grid_row": null,
            "grid_template_areas": null,
            "grid_template_columns": null,
            "grid_template_rows": null,
            "height": null,
            "justify_content": null,
            "justify_items": null,
            "left": null,
            "margin": null,
            "max_height": null,
            "max_width": null,
            "min_height": null,
            "min_width": null,
            "object_fit": null,
            "object_position": null,
            "order": null,
            "overflow": null,
            "overflow_x": null,
            "overflow_y": null,
            "padding": null,
            "right": null,
            "top": null,
            "visibility": null,
            "width": null
          }
        },
        "5e529836ac0c4b63a0178d7b0c70005b": {
          "model_module": "@jupyter-widgets/controls",
          "model_name": "DescriptionStyleModel",
          "model_module_version": "1.5.0",
          "state": {
            "_model_module": "@jupyter-widgets/controls",
            "_model_module_version": "1.5.0",
            "_model_name": "DescriptionStyleModel",
            "_view_count": null,
            "_view_module": "@jupyter-widgets/base",
            "_view_module_version": "1.2.0",
            "_view_name": "StyleView",
            "description_width": ""
          }
        }
      }
    }
  },
  "cells": [
    {
      "cell_type": "markdown",
      "source": [
        "# Portability of AI libraries \n",
        " \n"
      ],
      "metadata": {
        "id": "Tvmn-PwgXU3z"
      }
    },
    {
      "cell_type": "code",
      "source": [
        "!pip install datasets\n"
      ],
      "metadata": {
        "colab": {
          "base_uri": "https://localhost:8080/"
        },
        "id": "iHtybmkqXhum",
        "outputId": "8d3999a9-304f-4793-fcac-dc80c7f2662d"
      },
      "execution_count": null,
      "outputs": [
        {
          "output_type": "stream",
          "name": "stdout",
          "text": [
            "Looking in indexes: https://pypi.org/simple, https://us-python.pkg.dev/colab-wheels/public/simple/\n",
            "Collecting datasets\n",
            "  Downloading datasets-2.4.0-py3-none-any.whl (365 kB)\n",
            "\u001b[K     |████████████████████████████████| 365 kB 5.1 MB/s \n",
            "\u001b[?25hCollecting multiprocess\n",
            "  Downloading multiprocess-0.70.13-py37-none-any.whl (115 kB)\n",
            "\u001b[K     |████████████████████████████████| 115 kB 62.0 MB/s \n",
            "\u001b[?25hRequirement already satisfied: numpy>=1.17 in /usr/local/lib/python3.7/dist-packages (from datasets) (1.21.6)\n",
            "Requirement already satisfied: packaging in /usr/local/lib/python3.7/dist-packages (from datasets) (20.9)\n",
            "Requirement already satisfied: importlib-metadata in /usr/local/lib/python3.7/dist-packages (from datasets) (1.7.0)\n",
            "Collecting xxhash\n",
            "  Downloading xxhash-3.0.0-cp37-cp37m-manylinux_2_17_x86_64.manylinux2014_x86_64.whl (212 kB)\n",
            "\u001b[K     |████████████████████████████████| 212 kB 50.0 MB/s \n",
            "\u001b[?25hRequirement already satisfied: requests>=2.19.0 in /usr/local/lib/python3.7/dist-packages (from datasets) (2.23.0)\n",
            "Requirement already satisfied: pyarrow>=6.0.0 in /usr/local/lib/python3.7/dist-packages (from datasets) (6.0.1)\n",
            "Requirement already satisfied: dill<0.3.6 in /usr/local/lib/python3.7/dist-packages (from datasets) (0.3.5.1)\n",
            "Requirement already satisfied: tqdm>=4.62.1 in /usr/local/lib/python3.7/dist-packages (from datasets) (4.64.0)\n",
            "Requirement already satisfied: aiohttp in /usr/local/lib/python3.7/dist-packages (from datasets) (3.8.1)\n",
            "Collecting fsspec[http]>=2021.11.1\n",
            "  Downloading fsspec-2022.7.1-py3-none-any.whl (141 kB)\n",
            "\u001b[K     |████████████████████████████████| 141 kB 71.2 MB/s \n",
            "\u001b[?25hRequirement already satisfied: pandas in /usr/local/lib/python3.7/dist-packages (from datasets) (1.3.5)\n",
            "Collecting responses<0.19\n",
            "  Downloading responses-0.18.0-py3-none-any.whl (38 kB)\n",
            "Collecting huggingface-hub<1.0.0,>=0.1.0\n",
            "  Downloading huggingface_hub-0.8.1-py3-none-any.whl (101 kB)\n",
            "\u001b[K     |████████████████████████████████| 101 kB 9.3 MB/s \n",
            "\u001b[?25hRequirement already satisfied: filelock in /usr/local/lib/python3.7/dist-packages (from huggingface-hub<1.0.0,>=0.1.0->datasets) (3.7.1)\n",
            "Collecting pyyaml>=5.1\n",
            "  Downloading PyYAML-6.0-cp37-cp37m-manylinux_2_5_x86_64.manylinux1_x86_64.manylinux_2_12_x86_64.manylinux2010_x86_64.whl (596 kB)\n",
            "\u001b[K     |████████████████████████████████| 596 kB 57.1 MB/s \n",
            "\u001b[?25hRequirement already satisfied: typing-extensions>=3.7.4.3 in /usr/local/lib/python3.7/dist-packages (from huggingface-hub<1.0.0,>=0.1.0->datasets) (4.1.1)\n",
            "Requirement already satisfied: pyparsing>=2.0.2 in /usr/local/lib/python3.7/dist-packages (from packaging->datasets) (3.0.9)\n",
            "Requirement already satisfied: certifi>=2017.4.17 in /usr/local/lib/python3.7/dist-packages (from requests>=2.19.0->datasets) (2022.6.15)\n",
            "Requirement already satisfied: idna<3,>=2.5 in /usr/local/lib/python3.7/dist-packages (from requests>=2.19.0->datasets) (2.10)\n",
            "Requirement already satisfied: chardet<4,>=3.0.2 in /usr/local/lib/python3.7/dist-packages (from requests>=2.19.0->datasets) (3.0.4)\n",
            "Requirement already satisfied: urllib3!=1.25.0,!=1.25.1,<1.26,>=1.21.1 in /usr/local/lib/python3.7/dist-packages (from requests>=2.19.0->datasets) (1.24.3)\n",
            "Collecting urllib3!=1.25.0,!=1.25.1,<1.26,>=1.21.1\n",
            "  Downloading urllib3-1.25.11-py2.py3-none-any.whl (127 kB)\n",
            "\u001b[K     |████████████████████████████████| 127 kB 57.6 MB/s \n",
            "\u001b[?25hRequirement already satisfied: charset-normalizer<3.0,>=2.0 in /usr/local/lib/python3.7/dist-packages (from aiohttp->datasets) (2.1.0)\n",
            "Requirement already satisfied: aiosignal>=1.1.2 in /usr/local/lib/python3.7/dist-packages (from aiohttp->datasets) (1.2.0)\n",
            "Requirement already satisfied: async-timeout<5.0,>=4.0.0a3 in /usr/local/lib/python3.7/dist-packages (from aiohttp->datasets) (4.0.2)\n",
            "Requirement already satisfied: multidict<7.0,>=4.5 in /usr/local/lib/python3.7/dist-packages (from aiohttp->datasets) (6.0.2)\n",
            "Requirement already satisfied: asynctest==0.13.0 in /usr/local/lib/python3.7/dist-packages (from aiohttp->datasets) (0.13.0)\n",
            "Requirement already satisfied: frozenlist>=1.1.1 in /usr/local/lib/python3.7/dist-packages (from aiohttp->datasets) (1.3.0)\n",
            "Requirement already satisfied: yarl<2.0,>=1.0 in /usr/local/lib/python3.7/dist-packages (from aiohttp->datasets) (1.8.1)\n",
            "Requirement already satisfied: attrs>=17.3.0 in /usr/local/lib/python3.7/dist-packages (from aiohttp->datasets) (22.1.0)\n",
            "Requirement already satisfied: zipp>=0.5 in /usr/local/lib/python3.7/dist-packages (from importlib-metadata->datasets) (3.8.1)\n",
            "Requirement already satisfied: pytz>=2017.3 in /usr/local/lib/python3.7/dist-packages (from pandas->datasets) (2022.1)\n",
            "Requirement already satisfied: python-dateutil>=2.7.3 in /usr/local/lib/python3.7/dist-packages (from pandas->datasets) (2.8.2)\n",
            "Requirement already satisfied: six>=1.5 in /usr/local/lib/python3.7/dist-packages (from python-dateutil>=2.7.3->pandas->datasets) (1.15.0)\n",
            "Installing collected packages: urllib3, pyyaml, fsspec, xxhash, responses, multiprocess, huggingface-hub, datasets\n",
            "  Attempting uninstall: urllib3\n",
            "    Found existing installation: urllib3 1.24.3\n",
            "    Uninstalling urllib3-1.24.3:\n",
            "      Successfully uninstalled urllib3-1.24.3\n",
            "  Attempting uninstall: pyyaml\n",
            "    Found existing installation: PyYAML 3.13\n",
            "    Uninstalling PyYAML-3.13:\n",
            "      Successfully uninstalled PyYAML-3.13\n",
            "Successfully installed datasets-2.4.0 fsspec-2022.7.1 huggingface-hub-0.8.1 multiprocess-0.70.13 pyyaml-6.0 responses-0.18.0 urllib3-1.25.11 xxhash-3.0.0\n"
          ]
        }
      ]
    },
    {
      "cell_type": "code",
      "source": [
        "from datasets import load_dataset\n",
        "\n",
        "ds = load_dataset(\"codeparrot/github-code\", streaming=True, split=\"train\")\n",
        "print(next(iter(ds)))\n",
        "\n",
        "#EXPECTED OUTPUT:\n",
        "{\n",
        " 'code': \"import mod189 from './mod189';\\nvar value=mod189+1;\\nexport default value;\\n\",\n",
        " 'repo_name': 'MirekSz/webpack-es6-ts',\n",
        " 'path': 'app/mods/mod190.js',\n",
        " 'language': 'JavaScript',\n",
        " 'license': 'isc',\n",
        " 'size': 73\n",
        "}\n"
      ],
      "metadata": {
        "colab": {
          "base_uri": "https://localhost:8080/",
          "height": 212,
          "referenced_widgets": [
            "ee513b3821c549108a772f6afd8cfc2f",
            "d9671e4c5102441ba1a5a90946b7e817",
            "f54dba39bdbc4e538422f85ddf3f8d36",
            "6fb68a9595d34cc5ae8b7811c37b8347",
            "57730e6781ea4252ae0addaed6f344d5",
            "f61838905ee74b6f998a58e9ea0e49c8",
            "e8b80f3983df44f89f23b1a937d3a414",
            "06b26005008749cf884cc9878feb181b",
            "7cfb5cce79884d85998fdd2852064fbe",
            "e912123f5fc64186a6907f008613f934",
            "5e529836ac0c4b63a0178d7b0c70005b"
          ]
        },
        "id": "lN999DqNZNRJ",
        "outputId": "cb47da0b-536e-49a4-ab69-9d8729e0b033"
      },
      "execution_count": null,
      "outputs": [
        {
          "output_type": "display_data",
          "data": {
            "text/plain": [
              "Downloading builder script:   0%|          | 0.00/7.23k [00:00<?, ?B/s]"
            ],
            "application/vnd.jupyter.widget-view+json": {
              "version_major": 2,
              "version_minor": 0,
              "model_id": "ee513b3821c549108a772f6afd8cfc2f"
            }
          },
          "metadata": {}
        },
        {
          "output_type": "stream",
          "name": "stderr",
          "text": [
            "WARNING:datasets.builder:No config specified, defaulting to: github-code/all-all\n"
          ]
        },
        {
          "output_type": "stream",
          "name": "stdout",
          "text": [
            "{'code': '\\'use strict\\';\\n\\nvar clear          = require(\\'es5-ext/array/#/clear\\')\\n  , eIndexOf       = require(\\'es5-ext/array/#/e-index-of\\')\\n  , setPrototypeOf = require(\\'es5-ext/object/set-prototype-of\\')\\n  , callable       = require(\\'es5-ext/object/valid-callable\\')\\n  , d              = require(\\'d\\')\\n  , ee             = require(\\'event-emitter\\')\\n  , Symbol         = require(\\'es6-symbol\\')\\n  , iterator       = require(\\'es6-iterator/valid-iterable\\')\\n  , forOf          = require(\\'es6-iterator/for-of\\')\\n  , Iterator       = require(\\'./lib/iterator\\')\\n  , isNative       = require(\\'./is-native-implemented\\')\\n\\n  , call = Function.prototype.call, defineProperty = Object.defineProperty\\n  , SetPoly, getValues;\\n\\nmodule.exports = SetPoly = function (/*iterable*/) {\\n\\tvar iterable = arguments[0];\\n\\tif (!(this instanceof SetPoly)) return new SetPoly(iterable);\\n\\tif (this.__setData__ !== undefined) {\\n\\t\\tthrow new TypeError(this + \" cannot be reinitialized\");\\n\\t}\\n\\tif (iterable != null) iterator(iterable);\\n\\tdefineProperty(this, \\'__setData__\\', d(\\'c\\', []));\\n\\tif (!iterable) return;\\n\\tforOf(iterable, function (value) {\\n\\t\\tif (eIndexOf.call(this, value) !== -1) return;\\n\\t\\tthis.push(value);\\n\\t}, this.__setData__);\\n};\\n\\nif (isNative) {\\n\\tif (setPrototypeOf) setPrototypeOf(SetPoly, Set);\\n\\tSetPoly.prototype = Object.create(Set.prototype, {\\n\\t\\tconstructor: d(SetPoly)\\n\\t});\\n}\\n\\nee(Object.defineProperties(SetPoly.prototype, {\\n\\tadd: d(function (value) {\\n\\t\\tif (this.has(value)) return this;\\n\\t\\tthis.emit(\\'_add\\', this.__setData__.push(value) - 1, value);\\n\\t\\treturn this;\\n\\t}),\\n\\tclear: d(function () {\\n\\t\\tif (!this.__setData__.length) return;\\n\\t\\tclear.call(this.__setData__);\\n\\t\\tthis.emit(\\'_clear\\');\\n\\t}),\\n\\tdelete: d(function (value) {\\n\\t\\tvar index = eIndexOf.call(this.__setData__, value);\\n\\t\\tif (index === -1) return false;\\n\\t\\tthis.__setData__.splice(index, 1);\\n\\t\\tthis.emit(\\'_delete\\', index, value);\\n\\t\\treturn true;\\n\\t}),\\n\\tentries: d(function () { return new Iterator(this, \\'key+value\\'); }),\\n\\tforEach: d(function (cb/*, thisArg*/) {\\n\\t\\tvar thisArg = arguments[1], iterator, result, value;\\n\\t\\tcallable(cb);\\n\\t\\titerator = this.values();\\n\\t\\tresult = iterator._next();\\n\\t\\twhile (result !== undefined) {\\n\\t\\t\\tvalue = iterator._resolve(result);\\n\\t\\t\\tcall.call(cb, thisArg, value, value, this);\\n\\t\\t\\tresult = iterator._next();\\n\\t\\t}\\n\\t}),\\n\\thas: d(function (value) {\\n\\t\\treturn (eIndexOf.call(this.__setData__, value) !== -1);\\n\\t}),\\n\\tkeys: d(getValues = function () { return this.values(); }),\\n\\tsize: d.gs(function () { return this.__setData__.length; }),\\n\\tvalues: d(function () { return new Iterator(this); }),\\n\\ttoString: d(function () { return \\'[object Set]\\'; })\\n}));\\ndefineProperty(SetPoly.prototype, Symbol.iterator, d(getValues));\\ndefineProperty(SetPoly.prototype, Symbol.toStringTag, d(\\'c\\', \\'Set\\'));\\n', 'repo_name': 'Socratacom/socrata-europe', 'path': 'wp-content/themes/sage/node_modules/asset-builder/node_modules/main-bower-files/node_modules/vinyl-fs/node_modules/glob-stream/node_modules/unique-stream/node_modules/es6-set/polyfill.js', 'language': 'JavaScript', 'license': 'gpl-2.0', 'size': 2730}\n"
          ]
        },
        {
          "output_type": "execute_result",
          "data": {
            "text/plain": [
              "{'code': \"import mod189 from './mod189';\\nvar value=mod189+1;\\nexport default value;\\n\",\n",
              " 'language': 'JavaScript',\n",
              " 'license': 'isc',\n",
              " 'path': 'app/mods/mod190.js',\n",
              " 'repo_name': 'MirekSz/webpack-es6-ts',\n",
              " 'size': 73}"
            ]
          },
          "metadata": {},
          "execution_count": 8
        }
      ]
    },
    {
      "cell_type": "code",
      "execution_count": null,
      "metadata": {
        "colab": {
          "base_uri": "https://localhost:8080/"
        },
        "id": "h4QZN28KXUbo",
        "outputId": "a84adf81-fa91-49f5-efcf-9caed959cb74"
      },
      "outputs": [
        {
          "output_type": "stream",
          "name": "stderr",
          "text": [
            "WARNING:datasets.builder:Using custom data configuration Python-all-a057a1f71eb55e12\n"
          ]
        },
        {
          "output_type": "stream",
          "name": "stdout",
          "text": [
            "TEXT PASS LENGTH 2\n",
            "AST PASS LENGTH 0\n"
          ]
        }
      ],
      "source": [
        "from datasets import load_dataset\n",
        "from parso import parse\n",
        "\n",
        "ds = load_dataset(\"codeparrot/github-code\", streaming=True,\n",
        "                  split=\"train\", languages=[\"Python\"])\n",
        "\n",
        "iterator = iter(ds)\n",
        "count = 0\n",
        "\n",
        "\n",
        "def all_imports(node):\n",
        "    for subscope in node.iter_funcdefs():\n",
        "        yield from all_imports(subscope)\n",
        "    for subscope in node.iter_classdefs():\n",
        "        yield from all_imports(subscope)\n",
        "    yield from node.iter_imports()\n",
        "\n",
        "\n",
        "def contains_framework(ast):\n",
        "    generator = all_imports(ast)\n",
        "    for im in generator:\n",
        "        # gets the first path from all imports\n",
        "        name = im.get_paths()[0][0]\n",
        "        if \"torch\" in name.__repr__() or \"tensorflow\" in name.__repr__() or \"jax\" in name.__repr__():\n",
        "            return True\n",
        "    return False\n",
        "\n",
        "\n",
        "def main():\n",
        "    files = []\n",
        "    for i in range(100):\n",
        "        code_data = next(iterator)\n",
        "        if \"torch\" in code_data['code'] or \"tensorflow\" in code_data['code'] or \"jax\" in code_data['code']:\n",
        "            files.append(code_data['code'])\n",
        "\n",
        "    print(\"TEXT PASS LENGTH\", len(files))\n",
        "    filtered_files = [\n",
        "        file for file in files if contains_framework(parse(file))\n",
        "    ]\n",
        "\n",
        "    print(\"AST PASS LENGTH\", len(filtered_files))\n",
        "\n",
        "\n",
        "main()"
      ]
    },
    {
      "cell_type": "code",
      "source": [
        "print(ds.info.__dict__)"
      ],
      "metadata": {
        "colab": {
          "base_uri": "https://localhost:8080/"
        },
        "id": "LT3iYyfIarGt",
        "outputId": "2440b87a-0477-40f3-9cd3-94bd4768f488"
      },
      "execution_count": null,
      "outputs": [
        {
          "output_type": "stream",
          "name": "stdout",
          "text": [
            "{'description': 'The GitHub Code dataest consists of 115M code files from GitHub in 32 programming languages with 60 extensions totalling in 1TB of text data. The dataset was created from the GitHub dataset on BiqQuery.\\n', 'citation': '', 'homepage': 'https://cloud.google.com/blog/topics/public-datasets/github-on-bigquery-analyze-all-the-open-source-code/', 'license': \"Multiple: see the 'license' field of each sample.\", 'features': {'code': Value(dtype='string', id=None), 'repo_name': Value(dtype='string', id=None), 'path': Value(dtype='string', id=None), 'language': Value(dtype='string', id=None), 'license': Value(dtype='string', id=None), 'size': Value(dtype='int32', id=None)}, 'post_processed': None, 'supervised_keys': None, 'task_templates': None, 'builder_name': 'github-code', 'config_name': 'Python-all', 'version': 1.0.0, 'splits': None, 'download_checksums': None, 'download_size': None, 'post_processing_size': None, 'dataset_size': None, 'size_in_bytes': None}\n"
          ]
        }
      ]
    },
    {
      "cell_type": "code",
      "source": [
        "print(next(iter(ds)))"
      ],
      "metadata": {
        "colab": {
          "base_uri": "https://localhost:8080/"
        },
        "id": "ha2WHodNab05",
        "outputId": "c3e5a71b-7342-4aa3-cc8f-0b18c1566d6c"
      },
      "execution_count": null,
      "outputs": [
        {
          "output_type": "stream",
          "name": "stdout",
          "text": [
            "{'code': 'from django import forms\\nfrom django.core.exceptions import ValidationError\\nfrom django.core.validators import validate_slug\\nfrom django.db import models\\nfrom django.utils import simplejson as json\\nfrom django.utils.text import capfirst\\nfrom django.utils.translation import ugettext_lazy as _\\n\\nfrom philo.forms.fields import JSONFormField\\nfrom philo.utils.registry import RegistryIterator\\nfrom philo.validators import TemplateValidator, json_validator\\n#from philo.models.fields.entities import *\\n\\n\\nclass TemplateField(models.TextField):\\n\\t\"\"\"A :class:`TextField` which is validated with a :class:`.TemplateValidator`. ``allow``, ``disallow``, and ``secure`` will be passed into the validator\\'s construction.\"\"\"\\n\\tdef __init__(self, allow=None, disallow=None, secure=True, *args, **kwargs):\\n\\t\\tsuper(TemplateField, self).__init__(*args, **kwargs)\\n\\t\\tself.validators.append(TemplateValidator(allow, disallow, secure))\\n\\n\\nclass JSONDescriptor(object):\\n\\tdef __init__(self, field):\\n\\t\\tself.field = field\\n\\t\\n\\tdef __get__(self, instance, owner):\\n\\t\\tif instance is None:\\n\\t\\t\\traise AttributeError # ?\\n\\t\\t\\n\\t\\tif self.field.name not in instance.__dict__:\\n\\t\\t\\tjson_string = getattr(instance, self.field.attname)\\n\\t\\t\\tinstance.__dict__[self.field.name] = json.loads(json_string)\\n\\t\\t\\n\\t\\treturn instance.__dict__[self.field.name]\\n\\t\\n\\tdef __set__(self, instance, value):\\n\\t\\tinstance.__dict__[self.field.name] = value\\n\\t\\tsetattr(instance, self.field.attname, json.dumps(value))\\n\\t\\n\\tdef __delete__(self, instance):\\n\\t\\tdel(instance.__dict__[self.field.name])\\n\\t\\tsetattr(instance, self.field.attname, json.dumps(None))\\n\\n\\nclass JSONField(models.TextField):\\n\\t\"\"\"A :class:`TextField` which stores its value on the model instance as a python object and stores its value in the database as JSON. Validated with :func:`.json_validator`.\"\"\"\\n\\tdefault_validators = [json_validator]\\n\\t\\n\\tdef get_attname(self):\\n\\t\\treturn \"%s_json\" % self.name\\n\\t\\n\\tdef contribute_to_class(self, cls, name):\\n\\t\\tsuper(JSONField, self).contribute_to_class(cls, name)\\n\\t\\tsetattr(cls, name, JSONDescriptor(self))\\n\\t\\tmodels.signals.pre_init.connect(self.fix_init_kwarg, sender=cls)\\n\\t\\n\\tdef fix_init_kwarg(self, sender, args, kwargs, **signal_kwargs):\\n\\t\\t# Anything passed in as self.name is assumed to come from a serializer and\\n\\t\\t# will be treated as a json string.\\n\\t\\tif self.name in kwargs:\\n\\t\\t\\tvalue = kwargs.pop(self.name)\\n\\t\\t\\t\\n\\t\\t\\t# Hack to handle the xml serializer\\'s handling of \"null\"\\n\\t\\t\\tif value is None:\\n\\t\\t\\t\\tvalue = \\'null\\'\\n\\t\\t\\t\\n\\t\\t\\tkwargs[self.attname] = value\\n\\t\\n\\tdef formfield(self, *args, **kwargs):\\n\\t\\tkwargs[\"form_class\"] = JSONFormField\\n\\t\\treturn super(JSONField, self).formfield(*args, **kwargs)\\n\\n\\nclass SlugMultipleChoiceField(models.Field):\\n\\t\"\"\"Stores a selection of multiple items with unique slugs in the form of a comma-separated list. Also knows how to correctly handle :class:`RegistryIterator`\\\\ s passed in as choices.\"\"\"\\n\\t__metaclass__ = models.SubfieldBase\\n\\tdescription = _(\"Comma-separated slug field\")\\n\\t\\n\\tdef get_internal_type(self):\\n\\t\\treturn \"TextField\"\\n\\t\\n\\tdef to_python(self, value):\\n\\t\\tif not value:\\n\\t\\t\\treturn []\\n\\t\\t\\n\\t\\tif isinstance(value, list):\\n\\t\\t\\treturn value\\n\\t\\t\\n\\t\\treturn value.split(\\',\\')\\n\\t\\n\\tdef get_prep_value(self, value):\\n\\t\\treturn \\',\\'.join(value)\\n\\t\\n\\tdef formfield(self, **kwargs):\\n\\t\\t# This is necessary because django hard-codes TypedChoiceField for things with choices.\\n\\t\\tdefaults = {\\n\\t\\t\\t\\'widget\\': forms.CheckboxSelectMultiple,\\n\\t\\t\\t\\'choices\\': self.get_choices(include_blank=False),\\n\\t\\t\\t\\'label\\': capfirst(self.verbose_name),\\n\\t\\t\\t\\'required\\': not self.blank,\\n\\t\\t\\t\\'help_text\\': self.help_text\\n\\t\\t}\\n\\t\\tif self.has_default():\\n\\t\\t\\tif callable(self.default):\\n\\t\\t\\t\\tdefaults[\\'initial\\'] = self.default\\n\\t\\t\\t\\tdefaults[\\'show_hidden_initial\\'] = True\\n\\t\\t\\telse:\\n\\t\\t\\t\\tdefaults[\\'initial\\'] = self.get_default()\\n\\t\\t\\n\\t\\tfor k in kwargs.keys():\\n\\t\\t\\tif k not in (\\'coerce\\', \\'empty_value\\', \\'choices\\', \\'required\\',\\n\\t\\t\\t\\t\\t\\t \\'widget\\', \\'label\\', \\'initial\\', \\'help_text\\',\\n\\t\\t\\t\\t\\t\\t \\'error_messages\\', \\'show_hidden_initial\\'):\\n\\t\\t\\t\\tdel kwargs[k]\\n\\t\\t\\n\\t\\tdefaults.update(kwargs)\\n\\t\\tform_class = forms.TypedMultipleChoiceField\\n\\t\\treturn form_class(**defaults)\\n\\t\\n\\tdef validate(self, value, model_instance):\\n\\t\\tinvalid_values = []\\n\\t\\tfor val in value:\\n\\t\\t\\ttry:\\n\\t\\t\\t\\tvalidate_slug(val)\\n\\t\\t\\texcept ValidationError:\\n\\t\\t\\t\\tinvalid_values.append(val)\\n\\t\\t\\n\\t\\tif invalid_values:\\n\\t\\t\\t# should really make a custom message.\\n\\t\\t\\traise ValidationError(self.error_messages[\\'invalid_choice\\'] % invalid_values)\\n\\t\\n\\tdef _get_choices(self):\\n\\t\\tif isinstance(self._choices, RegistryIterator):\\n\\t\\t\\treturn self._choices.copy()\\n\\t\\telif hasattr(self._choices, \\'next\\'):\\n\\t\\t\\tchoices, self._choices = itertools.tee(self._choices)\\n\\t\\t\\treturn choices\\n\\t\\telse:\\n\\t\\t\\treturn self._choices\\n\\tchoices = property(_get_choices)\\n\\n\\ntry:\\n\\tfrom south.modelsinspector import add_introspection_rules\\nexcept ImportError:\\n\\tpass\\nelse:\\n\\tadd_introspection_rules([], [\"^philo\\\\.models\\\\.fields\\\\.SlugMultipleChoiceField\"])\\n\\tadd_introspection_rules([], [\"^philo\\\\.models\\\\.fields\\\\.TemplateField\"])\\n\\tadd_introspection_rules([], [\"^philo\\\\.models\\\\.fields\\\\.JSONField\"])', 'repo_name': 'ithinksw/philo', 'path': 'philo/models/fields/__init__.py', 'language': 'Python', 'license': 'isc', 'size': 4971}\n"
          ]
        }
      ]
    },
    {
      "cell_type": "code",
      "source": [
        ""
      ],
      "metadata": {
        "id": "xedKmzW5a46y"
      },
      "execution_count": null,
      "outputs": []
    }
  ]
}